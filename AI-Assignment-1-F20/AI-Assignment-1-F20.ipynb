{
 "cells": [
  {
   "cell_type": "markdown",
   "metadata": {},
   "source": [
    "# CMSC471 Artificial Intelligence - Fall 2020\n",
    "## Instructor: Fereydoon Vafaei\n",
    "# <font color=blue> Assignment 1: Solving Problems by Searching </font>"
   ]
  },
  {
   "cell_type": "markdown",
   "metadata": {},
   "source": [
    "*Type your name and ID here*"
   ]
  },
  {
   "cell_type": "markdown",
   "metadata": {},
   "source": [
    "## Overview and Learning Objectives"
   ]
  },
  {
   "cell_type": "markdown",
   "metadata": {},
   "source": [
    "We've studied two types of search algorithms during the recent lectures: Uninformed Search and Informed Search.\n",
    "\n",
    "Uninformed Search (aka blind search) refers to the search strategies that do not use additional information about states and goal of the search - nothing beyond the provided problem definition. The first algorithms that we studied from Chapter 3 of the Russel & Norvig textbook were Breadth First Search (BFS) and Depth First Search (DFS) which both fall into the category of Uniformed Search.\n",
    "\n",
    "We also studied how we can modify DFS to combine the advantages of BFS (completeness and conditional optimality) with the main advantage of DFS --space complexity of $O(bm)$ where $b$ is the branching factor and $m$ is the maximum depth of the search space. Limited Depth Search and Iterative Deepening DFS were two algorithms that we studied in that section and you are going to use them in Part I of this assignment.\n",
    "\n",
    "In Part II, you are going to practice Informed Search algorithms and heuristic functions. As discussed in the lectures, informed search algorithms use heuristic functions.\n",
    "\n",
    "Finally, in Part III, you will work on an example graph by applying Informed Search algorithms: Greedy Best-First Search and A*. \n",
    "\n",
    "<b>Very Important Note:</b> Read ALL the instructions in this notebook very carefully. Careless reading and skipping lines would be a major source of making mistakes and losing points in your first assignment! Also notice that this assignment has three parts and includes multiple steps and questions. You're strongly recommended to get started early and plan to finish well before the due. Technical problems or other issues/questions on the due date or just a day before would NOT be accepted as an excuse to delay your submission. As stated in the policy, ALL assignments are indvidual work and students are strictly prohibited from collaboration on assignments. Students are responsible to debug the code and resolve any errors that may arise. Students should NOT share any answer, solution, or code/snippet in Piazza. Violations of these policies would be penalized accordingly.\n",
    "\n",
    "Pedagogically, this assignment will help you:\n",
    "- better understand how these algorithms work in pratice. \n",
    "- brush up your Python skills - and possibly learn a couple of new \"Pythonic\" tricks!\n",
    "- pratice reading documentation. This is a very important skill in AI/ML/Data Science collaborative environments and teams.\n",
    "\n",
    "So, let's get started!"
   ]
  },
  {
   "cell_type": "markdown",
   "metadata": {},
   "source": [
    "# Part I - Uninformed Search"
   ]
  },
  {
   "cell_type": "markdown",
   "metadata": {},
   "source": [
    "In <b>Part I</b> of this Jupyter Notebook, you are going to apply Uninformed Search algorithms on a couple of search problems.\n",
    "\n",
    "First, you need to download the search notebook from AIMA GitHub repo. Make sure that it is the 4th edition:\n",
    "https://github.com/aimacode/aima-python/blob/master/search4e.ipynb\n",
    "\n",
    "You are going to use some of the classes and functions of `search4e.ipynb`. You can add cells and paste the borrowed code or a modified version of it.\n",
    "\n",
    "**Note:** In this notebook, students are required to import any necessary class or function from `search4e.ipynb` and add/modify the code wherever it is needed. You are required to resolve any issues or errors that may arise to make all the imported codes as well as YOUR codes run error-free. "
   ]
  },
  {
   "cell_type": "markdown",
   "metadata": {},
   "source": [
    "### Route Finidng Problem"
   ]
  },
  {
   "cell_type": "markdown",
   "metadata": {},
   "source": [
    "Using `RouteProblem` and `Map` classes, define a few new problems as described below called `r5`, `r6`, `r7` that represent different routes on the following **directed** graph. Notice that the `Map` must be defined as **directed**.\n",
    "\n",
    "**Hint**: See how Romania map is defined in `search4e.ipynb`; however, you don't need locations in this case. Also, all the costs are assumed to be identical (the default cost value is 1)."
   ]
  },
  {
   "cell_type": "markdown",
   "metadata": {},
   "source": [
    "The `A1-graph` is illustrated below.\n",
    "\n",
    "<img src=\"img/A1-graph.png\" align=\"left\"/>"
   ]
  },
  {
   "cell_type": "code",
   "execution_count": 1,
   "metadata": {},
   "outputs": [],
   "source": [
    "A1_graph = ..."
   ]
  },
  {
   "cell_type": "markdown",
   "metadata": {},
   "source": [
    "> `r5` should be defined from `a` to `m` <br>\n",
    "> `r6` should be defined from `a` to `u` <br>\n",
    "> `r7` should be defined from `b` to `d`"
   ]
  },
  {
   "cell_type": "code",
   "execution_count": 13,
   "metadata": {},
   "outputs": [],
   "source": [
    "r5 = ...\n",
    "\n",
    "r6 = ...\n",
    "\n",
    "r7 = ..."
   ]
  },
  {
   "cell_type": "markdown",
   "metadata": {},
   "source": [
    "Now, let's try DFS with some example tests on this graph. The correct output is provided for your reference."
   ]
  },
  {
   "cell_type": "code",
   "execution_count": 14,
   "metadata": {},
   "outputs": [
    {
     "data": {
      "text/plain": [
       "['a', 'b', 'e', 'm']"
      ]
     },
     "execution_count": 14,
     "metadata": {},
     "output_type": "execute_result"
    }
   ],
   "source": [
    "path_states(depth_first_bfs(r5))"
   ]
  },
  {
   "cell_type": "code",
   "execution_count": 15,
   "metadata": {},
   "outputs": [
    {
     "data": {
      "text/plain": [
       "['a', 'b', 'e', 'l', 'r', 'u']"
      ]
     },
     "execution_count": 15,
     "metadata": {},
     "output_type": "execute_result"
    }
   ],
   "source": [
    "path_states(depth_first_bfs(r6))"
   ]
  },
  {
   "cell_type": "markdown",
   "metadata": {},
   "source": [
    ">What if no path exists?! Let's try!"
   ]
  },
  {
   "cell_type": "code",
   "execution_count": 16,
   "metadata": {},
   "outputs": [
    {
     "data": {
      "text/plain": [
       "[]"
      ]
     },
     "execution_count": 16,
     "metadata": {},
     "output_type": "execute_result"
    }
   ],
   "source": [
    "# Non-existing path!\n",
    "path_states(depth_first_bfs(r7))"
   ]
  },
  {
   "cell_type": "markdown",
   "metadata": {},
   "source": [
    "Now, try the tests on `r5` and `r6` with Depth-limited algorithm (with a depth limit of 3) and Iterative-deepening search. Outputs are not provided for these tests."
   ]
  },
  {
   "cell_type": "code",
   "execution_count": 2,
   "metadata": {},
   "outputs": [],
   "source": [
    "path_states(depth_limited_search(r5, limit=3))"
   ]
  },
  {
   "cell_type": "code",
   "execution_count": 3,
   "metadata": {},
   "outputs": [],
   "source": [
    "path_states(depth_limited_search(r6, limit=3))"
   ]
  },
  {
   "cell_type": "code",
   "execution_count": 4,
   "metadata": {},
   "outputs": [],
   "source": [
    "path_states(iterative_deepening_search(r5))"
   ]
  },
  {
   "cell_type": "code",
   "execution_count": 5,
   "metadata": {},
   "outputs": [],
   "source": [
    "path_states(iterative_deepening_search(r6))"
   ]
  },
  {
   "cell_type": "markdown",
   "metadata": {},
   "source": [
    "## Grid problem"
   ]
  },
  {
   "cell_type": "markdown",
   "metadata": {},
   "source": [
    "Now, try Breadth-first search (`breadth_first_bfs`), DFS (`depth_first_bfs`), Depth-Limited with a default value of the limit, and Iterative Deepening on `d1` grid problem from `search4e.ipynb`.\n",
    "\n",
    "You can use `path_states()` function for the grid problem too. If any runs of the algorithms takes more than 15 minutes on your machine, you may stop the kernel, leave a comment in your code indicating what happened, and move on."
   ]
  },
  {
   "cell_type": "code",
   "execution_count": 6,
   "metadata": {},
   "outputs": [],
   "source": [
    "path_states(breadth_first_bfs(d1))"
   ]
  },
  {
   "cell_type": "code",
   "execution_count": 36,
   "metadata": {},
   "outputs": [],
   "source": [
    "path_states(depth_first_bfs(d1))"
   ]
  },
  {
   "cell_type": "code",
   "execution_count": 70,
   "metadata": {},
   "outputs": [],
   "source": [
    "path_states(depth_limited_search(d1))"
   ]
  },
  {
   "cell_type": "code",
   "execution_count": null,
   "metadata": {},
   "outputs": [],
   "source": [
    "path_states(iterative_deepening_search(d1))"
   ]
  },
  {
   "cell_type": "markdown",
   "metadata": {},
   "source": [
    "> Next, define a new grid problem named `d8` from `(4,4)` to `(8,3)` with no obstacles, and with the default directions, and run all the aforementioned algorithms BFS, DFS (this time the other version i.e. `depth_first_recursive_search`), depth-limited with default limit and iterative-deepening on it."
   ]
  },
  {
   "cell_type": "code",
   "execution_count": 91,
   "metadata": {},
   "outputs": [],
   "source": [
    "d8 = ..."
   ]
  },
  {
   "cell_type": "code",
   "execution_count": 99,
   "metadata": {},
   "outputs": [],
   "source": [
    "path_states(breadth_first_bfs(d8))"
   ]
  },
  {
   "cell_type": "code",
   "execution_count": 7,
   "metadata": {},
   "outputs": [],
   "source": [
    "path_states(depth_first_recursive_search(d8))"
   ]
  },
  {
   "cell_type": "code",
   "execution_count": 8,
   "metadata": {},
   "outputs": [],
   "source": [
    "path_states(depth_limited_search(d8))"
   ]
  },
  {
   "cell_type": "code",
   "execution_count": 101,
   "metadata": {},
   "outputs": [],
   "source": [
    "path_states(iterative_deepening_search(d8))"
   ]
  },
  {
   "cell_type": "markdown",
   "metadata": {},
   "source": [
    "## Part I Questions"
   ]
  },
  {
   "cell_type": "markdown",
   "metadata": {},
   "source": [
    "- Q1 [2 points] - What is the minimum required depth limit for Depth-limited search so that it can return the desired output for `r6`?\n",
    "\n",
    "\n",
    "- Q2 [4 points] - Which of the algorithms that you tried returned a solution path for `d1`?\n",
    "\n",
    "- Q3 [4 points] - Which of the algorithms that you tried returned a solution path for `d8`?\n",
    "\n",
    "<font color=red>Enter your answers in the following markdown cell.</font>"
   ]
  },
  {
   "cell_type": "markdown",
   "metadata": {},
   "source": [
    "- Your answers to Part I questions go here - below the lines:\n",
    "\n",
    "========================================================\n",
    "\n",
    "\n",
    "YOUR Answers:\n",
    "\n",
    "- Q1: \n",
    "\n",
    "- Q2:\n",
    "\n",
    "- Q3:"
   ]
  },
  {
   "cell_type": "markdown",
   "metadata": {},
   "source": [
    "# Part II - Informed Search & Heuristics"
   ]
  },
  {
   "cell_type": "markdown",
   "metadata": {},
   "source": [
    "In <b>Part II</b> of this Jupyter Notebook, you apply informed search algorithms on 8-puzzle problem."
   ]
  },
  {
   "cell_type": "markdown",
   "metadata": {},
   "source": [
    "Remember how I tried to [solve it online](http://www.tilepuzzles.com/default.asp?p=12) during the lecture? Now, Artificial Intelligence will help solve this puzzle! \n",
    "\n",
    "The state of the puzzle are represented as a list of integers. 0 represents the empty position. "
   ]
  },
  {
   "cell_type": "markdown",
   "metadata": {},
   "source": [
    "> The following is an example start state. The blank is represented by a 0 digit."
   ]
  },
  {
   "cell_type": "code",
   "execution_count": 128,
   "metadata": {},
   "outputs": [],
   "source": [
    "startState = (1, 0, 3, 4, 2, 5, 6, 7, 8)"
   ]
  },
  {
   "cell_type": "markdown",
   "metadata": {},
   "source": [
    "> Define a new `EightPuzzle` problem named `e6` with `initial` as `startState`."
   ]
  },
  {
   "cell_type": "code",
   "execution_count": 129,
   "metadata": {},
   "outputs": [],
   "source": [
    "e6 = ..."
   ]
  },
  {
   "cell_type": "markdown",
   "metadata": {},
   "source": [
    "> Solve `e6` using `weighted_astar_search` and show the solution path with `path_states()` function."
   ]
  },
  {
   "cell_type": "code",
   "execution_count": 9,
   "metadata": {},
   "outputs": [],
   "source": [
    "for s in path_states(weighted_astar_search(e6)):\n",
    "    print(board8(s))"
   ]
  },
  {
   "cell_type": "markdown",
   "metadata": {},
   "source": [
    "## Unsolvable 8-Puzzle Problems"
   ]
  },
  {
   "cell_type": "markdown",
   "metadata": {},
   "source": [
    "There are cases in which the [8 puzzle is not solvable](https://www.cs.princeton.edu/courses/archive/fall12/cos226/assignments/8puzzle.html). For example, in the simple example below, switching the position of 1 and 2 makes it impossible to reach the goal state. It would seem that this could be done with a few simple slides, but tests with several algorithms show that they cannot find a solution.\n",
    "\n",
    "In general, an odd number of inversions ([inverted number positions](https://www.geeksforgeeks.org/check-instance-8-puzzle-solvable/)) from the starting state in comparision to the goal state leads to an unsolvable puzzle."
   ]
  },
  {
   "cell_type": "code",
   "execution_count": 111,
   "metadata": {},
   "outputs": [],
   "source": [
    "unsolvable_startState = (2, 1, 3, 4, 5, 6, 7, 8, 0)"
   ]
  },
  {
   "cell_type": "markdown",
   "metadata": {},
   "source": [
    "> Try to define a new `EightPuzzle` problem named `e7` using `unsolvable_startState`."
   ]
  },
  {
   "cell_type": "code",
   "execution_count": 113,
   "metadata": {},
   "outputs": [],
   "source": [
    "e7 = ..."
   ]
  },
  {
   "cell_type": "markdown",
   "metadata": {},
   "source": [
    "## Heuristic Functions: h3 and h4"
   ]
  },
  {
   "cell_type": "markdown",
   "metadata": {},
   "source": [
    "Add two new heuristics `h3` and `h4` to `EightPuzzle` class. `h3` should be the squared root of Manhattan distance and `h4` should be defined as the maximum of `h1` and `h2`. Try running the `weighted_astar_search` on `e7` once with `h3` and once with `h4`. They should run error-free ---we will test your code!"
   ]
  },
  {
   "cell_type": "markdown",
   "metadata": {},
   "source": [
    "## Comparing Heuristics"
   ]
  },
  {
   "cell_type": "markdown",
   "metadata": {},
   "source": [
    "Similar to \"Comparing heuritic\" report in `search4e.ipynb` and using `CountCalls` class, generate a report to compare the results of A* using the four heuristics `h1`, `h2`, `h3`, and `h4` on `e6`."
   ]
  },
  {
   "cell_type": "code",
   "execution_count": 10,
   "metadata": {},
   "outputs": [],
   "source": [
    "def astar_misplaced_tiles(problem): ...\n",
    "\n",
    "def astar_manhattan(problem): ...\n",
    "\n",
    "def astar_sqrt_manhattan(problem): ...\n",
    "\n",
    "def astar_max(problem): ...\n",
    "\n",
    "report([astar_misplaced_tiles, astar_manhattan, astar_sqrt_manhattan, astar_max], [e6])"
   ]
  },
  {
   "cell_type": "markdown",
   "metadata": {},
   "source": [
    "## Part II Questions"
   ]
  },
  {
   "cell_type": "markdown",
   "metadata": {},
   "source": [
    "- Q4 [2 points] - Could you define `e7`? Explain why based on the provided resources in the links above.\n",
    "\n",
    "- Q5 [8 points] - According to the report you generated, which heuristic is the best one among `[h1, h2, h3, h4]`? Explain COMPLETELY."
   ]
  },
  {
   "cell_type": "markdown",
   "metadata": {},
   "source": [
    "- Your answers to Part II questions go here - below the lines:\n",
    "\n",
    "========================================================\n",
    "\n",
    "\n",
    "YOUR Answers:\n",
    "\n",
    "- Q4: \n",
    "\n",
    "- Q5: "
   ]
  },
  {
   "cell_type": "markdown",
   "metadata": {},
   "source": [
    "# Part III - GBFS and A*"
   ]
  },
  {
   "cell_type": "markdown",
   "metadata": {},
   "source": [
    "The following graph is similar to the example you worked on as class activity. Answer the following questions. <font color=red> ALL your answers should be typed in including the math inequality. Handwritten answers or screenshots will get NO credit. You may use [Latex](https://oeis.org/wiki/List_of_LaTeX_mathematical_symbols) for math. You can put your math equations between `$` You may also put them between `$$` to align it on center</font>. See how Latex is used in the questions to display the math by putting them between `$$`\n",
    "\n",
    "<img src=\"img/A-star.png\" align=\"left\"/>"
   ]
  },
  {
   "cell_type": "markdown",
   "metadata": {},
   "source": [
    "## Part III Questions"
   ]
  },
  {
   "cell_type": "markdown",
   "metadata": {},
   "source": [
    "- Q6- What solution and goal would be returned if you run Greedy Best-First Search on this graph? What is the total cost of solution?\n",
    "\n",
    "\n",
    "- Q7- What solution and goal would be returned if you run A-star Search on this graph? What is the total cost of solution?\n",
    "\n",
    "\n",
    "- Q8- Is this heuristic admissible? You must prove admissibility using the inequality from slides for every node or to prove otherwise you must show a counter-example.\n",
    "$$\\forall\\, node\\,n, h(n) \\le h^*(n)$$\n",
    "> where $h^*(n)$ is the true actual (minimal) cost from $n$ to goal\n",
    "\n",
    "\n",
    "\n",
    "- Q9- Is this heuristic consistent? You must prove consistency using the inequality from slides for every node or to prove otherwise you must show a counter-example.\n",
    " a heuristic $h$ is consistent if for every node $n$ of a parent node $p$,\n",
    "\n",
    "$$h(p) \\le h(n) + \\mathrm{stepcost}(p,n)$$"
   ]
  },
  {
   "cell_type": "markdown",
   "metadata": {},
   "source": [
    "YOUR Answers Go HERE:\n",
    "\n",
    "- Q6- \n",
    "\n",
    "\n",
    "- Q7- \n",
    "\n",
    "\n",
    "- Q8- \n",
    "\n",
    "\n",
    "- Q9- "
   ]
  },
  {
   "cell_type": "markdown",
   "metadata": {},
   "source": [
    "<font color=blue>Congratulations! </font>You finished the first assignemtn of AI class! You learned and praticed a lot of things that we discussed in class. This is one of the cool features of Jupyter Notebooks, you can have all the contents, text, codes and plots in an interactive environment. We are going to have similar assignments for the following sections and chapters. Stay tuned! "
   ]
  },
  {
   "cell_type": "markdown",
   "metadata": {},
   "source": [
    "## Grading\n",
    "\n",
    "Assignment 1 has a maximum of 100 points. Make sure that you get the desired outputs for all cells that you implemented. Also, your notebook should be written with no grammatical and spelling errors and should be nicely-formatted and easy-to-read.\n",
    "\n",
    "The breakdown of the 100 points is as follows:\n",
    "\n",
    "Part I has 40 points:\n",
    "- 30 points: codes and correct outputs\n",
    "- 10 points: correct answer of the Part I question {Q1: 2 points Q2 & Q3: 4 points}\n",
    "\n",
    "Part II has 35 points:\n",
    "- 25 points: codes and correct outputs\n",
    "- 10 points: correct answers of Part II questions{Q4: 2 points Q5: 8 points}\n",
    "\n",
    "Part III has 25 points:\n",
    "- 5 points: Greedy Best First Search (Q6)\n",
    "- 5 points: A* (Q7)\n",
    "- 5 points: Admissibility (Q8)\n",
    "- 10 points: Consistency (Q9)\n",
    "\n",
    "Follow the instructions of each part and section carefully.\n",
    "\n",
    "<b>Up to 10 points will be deducted if your submitted notebook is not easy to read and follow or if it has grammatical and spelling errors.</b>"
   ]
  },
  {
   "cell_type": "markdown",
   "metadata": {},
   "source": [
    "## How to Submit and Due Date"
   ]
  },
  {
   "cell_type": "markdown",
   "metadata": {},
   "source": [
    "Name your notebook ```Lastname-A1.ipynb```.  So, for me it would be ```Vafaei-A1.ipynb```.  Submit ONLY the Jupyter Notebook file using the ```Assignment-1``` link on Blackboard. You should NOT include the `.png` images for the graphs, we don't need them!\n",
    "\n",
    "Grading will be based on \n",
    "\n",
    "  * correct implementation, correct answer to the questions, and\n",
    "  * readability of the notebook.\n",
    "  \n",
    "<font color=red><b>Due Date: Monday October 5th, 11:59PM.</b></font>"
   ]
  },
  {
   "cell_type": "markdown",
   "metadata": {},
   "source": [
    "## References\n",
    "\n",
    "- AI A Modern Approach - 4th Edition - Russel & Norvig Textbook"
   ]
  }
 ],
 "metadata": {
  "anaconda-cloud": {},
  "kernelspec": {
   "display_name": "Python 3",
   "language": "python",
   "name": "python3"
  },
  "language_info": {
   "codemirror_mode": {
    "name": "ipython",
    "version": 3
   },
   "file_extension": ".py",
   "mimetype": "text/x-python",
   "name": "python",
   "nbconvert_exporter": "python",
   "pygments_lexer": "ipython3",
   "version": "3.7.3"
  }
 },
 "nbformat": 4,
 "nbformat_minor": 1
}
