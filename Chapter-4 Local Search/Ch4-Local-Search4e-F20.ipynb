{
 "cells": [
  {
   "cell_type": "markdown",
   "metadata": {
    "slideshow": {
     "slide_type": "slide"
    }
   },
   "source": [
    "#### <h1><center>CMSC 471: Introduction to Artificial Intelligence</center></h1>\n",
    "\n",
    "<center><img src=\"img/title.jpeg\" align=\"center\"/></center>\n",
    "\n",
    "\n",
    "<h3 style=\"color:blue;\"><center>Instructor: Fereydoon Vafaei</center></h3>\n",
    "\n",
    "\n",
    "<h5 style=\"color:purple;\"><center>Search in Complex Environments: Local Search & Beyond</center></h5>\n",
    "\n",
    "<center><img src=\"img/UMBC_logo.png\" align=\"center\"/></center>"
   ]
  },
  {
   "cell_type": "markdown",
   "metadata": {
    "slideshow": {
     "slide_type": "slide"
    }
   },
   "source": [
    "<h1><center>Agenda</center></h1>\n",
    "\n",
    "- <b> Chapter 4: Search in Complex Environments</b>\n",
    "- Local Search\n",
    "    - Hill Climbing\n",
    "    - Simulated Annealing\n",
    "    - Local Beam Search\n",
    "    - Evolutionary Algorithms: Genetic Algorithms\n",
    "- Local Search in Continuous Spaces: Gradient Ascent & Gradient Descent\n",
    "- Online Search"
   ]
  },
  {
   "cell_type": "markdown",
   "metadata": {
    "slideshow": {
     "slide_type": "slide"
    }
   },
   "source": [
    "<h1><center>Local Search</center></h1>\n",
    "\n",
    "<h5><center>Methods Inspired by Statistical Physics (Simulated Annealing) and Evolutionary Biology (Genetic Algorithms)</center></h5>"
   ]
  },
  {
   "cell_type": "markdown",
   "metadata": {
    "slideshow": {
     "slide_type": "slide"
    }
   },
   "source": [
    "<h1><center>Local Search</center></h1>\n",
    "\n",
    "- Local search algorithms operate using a single current node (rather than multiple paths), and generally move only to neighbors of that node.\n",
    "\n",
    "- Local serach algorithms are useful for solving <font color=\"blue\">optimization problems</font>, in which the aim is to find the best state according to an <font color=\"blue\">objective function</font>. "
   ]
  },
  {
   "cell_type": "markdown",
   "metadata": {
    "slideshow": {
     "slide_type": "slide"
    }
   },
   "source": [
    "<h1><center>Optimization Problems</center></h1>\n",
    "\n",
    "<img src=\"img/fig-4-1.png\" align=\"center\"/>\n",
    "\n",
    "From Russel & Norvig Textbook"
   ]
  },
  {
   "cell_type": "markdown",
   "metadata": {
    "slideshow": {
     "slide_type": "slide"
    }
   },
   "source": [
    "<h1><center>Hill Climbing</center></h1>\n",
    "\n",
    "- Also known as Steepest Ascent: This is our first example of a local search algorithm.\n",
    "\n",
    "\n",
    "- Imagine you are climbing a mountain and you are in a very thick fog. You can only see a distance equal to one step length. To try to climb you take the step in the direction that is steepest to get to the highest point of all the locations you can currently see.\n",
    "\n",
    "\n",
    "- In other words, hill-climbing search simply evaluates the objective function for all states that are neighbors to the current state, and takes the neighbor state with the best objective function value as the new current state. If there are more than one next best states, one is picked randomly.\n",
    "\n",
    "\n",
    "- Hill-climbing search is sometimes called greedy search, because a step is taken after only considering the immediate neighbors. No time is spent considering possible future states."
   ]
  },
  {
   "cell_type": "markdown",
   "metadata": {
    "slideshow": {
     "slide_type": "slide"
    }
   },
   "source": [
    "<h1><center>Hill Climbing</center></h1>\n",
    "\n",
    "<img src=\"img/fig-4-2.png\" align=\"center\"/>"
   ]
  },
  {
   "cell_type": "markdown",
   "metadata": {
    "slideshow": {
     "slide_type": "slide"
    }
   },
   "source": [
    "<h1><center>Hill Climbing</center></h1>\n",
    "\n",
    "<img src=\"img/sa-1.jpg\" align=\"center\"/>\n",
    "\n",
    "Image from: https://rs.io/ultimate-guide-simulated-annealing/"
   ]
  },
  {
   "cell_type": "markdown",
   "metadata": {
    "slideshow": {
     "slide_type": "slide"
    }
   },
   "source": [
    "<h1><center>Hill Climbing</center></h1>\n",
    "\n",
    "<img src=\"img/hc.jpg\" align=\"center\"/>\n",
    "\n",
    "Image from: https://rs.io/ultimate-guide-simulated-annealing/"
   ]
  },
  {
   "cell_type": "markdown",
   "metadata": {
    "slideshow": {
     "slide_type": "slide"
    }
   },
   "source": [
    "<h1><center>Hill Climbing Failure</center></h1>\n",
    "\n",
    "<img src=\"img/hc-fail.jpg\" align=\"center\"/>\n",
    "\n",
    "Image from: https://rs.io/ultimate-guide-simulated-annealing/"
   ]
  },
  {
   "cell_type": "markdown",
   "metadata": {
    "slideshow": {
     "slide_type": "slide"
    }
   },
   "source": [
    "<h1><center>Hill Climbing Failure - Ridges</center></h1>\n",
    "\n",
    "<center><img src=\"img/ridges.png\" align=\"center\"/></center>\n",
    "\n",
    "Image from Russel & Norvig AIMA Textbook"
   ]
  },
  {
   "cell_type": "markdown",
   "metadata": {
    "slideshow": {
     "slide_type": "slide"
    }
   },
   "source": [
    "<h1><center>Hill Climbing</center></h1>\n",
    "\n",
    "Hill-climbing is easy to formulate and implement and often finds\n",
    "pretty good states quickly.  But, it has the following problems:\n",
    "\n",
    "  * it gets stuck on local optima (hills for maximizing searches, valleys for minimizing searches,\n",
    "  * it may get stuck on a ridge, if no single action can advance the search along the ridge,\n",
    "  * it may get stuck wandering on a plateau for which all neighboring states have equal value for the objective function.\n",
    "\n",
    "Common variations include\n",
    "  * allow sideways moves (when on a **plateau**)\n",
    "  * stochastic hill-climbing: choose next state with probability related to increase in value of objective function\n",
    "  * first-choice hill-climbing: generate neighbors by random choice of available actions and keep first state that has better value,\n",
    "  * random-restart hill climbing: conduct multiple hill-climbing searches from multiple, randomly generated initial states.\n",
    "\n",
    "Only this last one, with random-restarts, is **complete**.  In the limit, all states will be tried as starting states so the goal, or best state, will eventually be found."
   ]
  },
  {
   "cell_type": "markdown",
   "metadata": {
    "slideshow": {
     "slide_type": "slide"
    }
   },
   "source": [
    "<h1><center>Simulated Annealing</center></h1>\n",
    "\n",
    "- Hill-climbing searches will get stuck on local optima.  Only by adding random restarts can you have a hill-climbing algorithm that is complete.\n",
    "\n",
    "\n",
    "- To get off of a local optimum, a search must be defined to allow steps that are \"downhill\" for maximizing searches, and \"uphill\" for minimizing searches, away from the optimum.  \n",
    "\n",
    "\n",
    "- [**Simulated annealing**](https://www.mit.edu/~dbertsim/papers/Optimization/Simulated%20annealing.pdf) is an algorithm that does this probabilisitically.  In metallurgy, **annealing** is the process used to temper or harden metals and glass by heating them to a high temprature and then gradually cooling them, thus allowing the material to reach a low-energy crystalline state."
   ]
  },
  {
   "cell_type": "markdown",
   "metadata": {
    "slideshow": {
     "slide_type": "slide"
    }
   },
   "source": [
    "<h1><center>Simulated Annealing</center></h1>\n",
    "\n",
    "\n",
    "- Assume we are doing a maximizing search, meaning we want to find the state with the maximum value.  Let the value of the current state be $v$.  Imagine an action has been applied to that state and the resulting state has a lower (worse) value $v'$.  Simulated annealing will accept this new state as the current state with probability: $$e^{(v' - v)/T}$$\n",
    "\n",
    "- $T$ is like a \"temperature\", the higher the value the more likely we are to take a step to a state with a worse value. In practice, $T$ starts at a high value and is slowly decreased towards zero.  If it is decreased \"slowly enough\", the global optimum will be found with probabilty 1.  In other words, this is a **complete** algorithm if the cooling strategy is slow enough."
   ]
  },
  {
   "cell_type": "markdown",
   "metadata": {
    "slideshow": {
     "slide_type": "slide"
    }
   },
   "source": [
    "<h1><center>Simulated Annealing</center></h1>\n",
    "\n",
    "<center><img src=\"img/fig-4-4.png\" align=\"center\"/></center>"
   ]
  },
  {
   "cell_type": "markdown",
   "metadata": {
    "slideshow": {
     "slide_type": "slide"
    }
   },
   "source": [
    "<h1><center>Simulated Annealing</center></h1>\n",
    "\n",
    "<img src=\"img/sa-1.jpg\" align=\"center\"/>\n",
    "\n",
    "Image from: https://rs.io/ultimate-guide-simulated-annealing/"
   ]
  },
  {
   "cell_type": "markdown",
   "metadata": {
    "slideshow": {
     "slide_type": "slide"
    }
   },
   "source": [
    "<h1><center>Simulated Annealing - Ping-Pong Ball Shaking Intuition</center></h1>\n",
    "\n",
    "<img src=\"img/sa-ping-pong.jpg\" align=\"center\"/>\n",
    "\n",
    "Image from: https://rs.io/ultimate-guide-simulated-annealing/"
   ]
  },
  {
   "cell_type": "code",
   "execution_count": 1,
   "metadata": {
    "slideshow": {
     "slide_type": "slide"
    }
   },
   "outputs": [
    {
     "data": {
      "image/png": "[encoded data removed]",
      "text/plain": [
       "<Figure size 720x504 with 1 Axes>"
      ]
     },
     "metadata": {
      "needs_background": "light"
     },
     "output_type": "display_data"
    }
   ],
   "source": [
    "# Code credit: Professor Chuck Anderson - CSU\n",
    "import numpy as np\n",
    "import matplotlib.pyplot as plt\n",
    "%matplotlib inline\n",
    "\n",
    "def probOfAcceptance(dE, T):\n",
    "    r = np.exp(dE/T)\n",
    "    r[r>1] = 1.0\n",
    "    return r\n",
    "    \n",
    "dE = np.linspace(-5, 5, num=100)\n",
    "\n",
    "plt.figure(figsize=(10,7))\n",
    "plt.clf()\n",
    "legendText = []\n",
    "for T in [0.1, 1, 10, 100]:\n",
    "    plt.plot(dE, probOfAcceptance(dE,T), 'o-')\n",
    "    legendText.append('Temperature = {:1f}'.format(T))\n",
    "plt.xlabel('New Value - Current Value')\n",
    "plt.ylabel('Probability of Accepting New State')\n",
    "plt.legend(legendText,loc='lower right');"
   ]
  },
  {
   "cell_type": "markdown",
   "metadata": {
    "slideshow": {
     "slide_type": "slide"
    }
   },
   "source": [
    "<h1><center>Local Beam Search</center></h1>\n",
    "\n",
    "<center><img src=\"img/local-beam-search.jpg\" align=\"center\"/></center>\n",
    "\n",
    "<font size=1>Image from Prof. Lathrop's Slides UC-Irvine</font>"
   ]
  },
  {
   "cell_type": "markdown",
   "metadata": {
    "slideshow": {
     "slide_type": "slide"
    }
   },
   "source": [
    "<h1><center>Evolutionary Algorithms: Solving 8-Queens Problem</center></h1>\n",
    "\n",
    "<center><img src=\"img/fig-4-3.png\" align=\"center\"/></center>"
   ]
  },
  {
   "cell_type": "markdown",
   "metadata": {
    "slideshow": {
     "slide_type": "slide"
    }
   },
   "source": [
    "<h1><center>Genetic Algorithm - 8 Queens</center></h1>\n",
    "\n",
    "<center><img src=\"img/fig-4-5.png\" align=\"center\"/></center>\n",
    "\n",
    "<center><img src=\"img/fig-4-6.png\" align=\"center\"/></center>"
   ]
  },
  {
   "cell_type": "markdown",
   "metadata": {
    "slideshow": {
     "slide_type": "slide"
    }
   },
   "source": [
    "[Genetic Algorithm Demo -1](http://math.hws.edu/eck/js/genetic-algorithm/GA.html)\n",
    "\n",
    "[Geneti Algorithm Demo -2](https://www.youtube.com/watch?v=XcinBPhgT7M)"
   ]
  },
  {
   "cell_type": "markdown",
   "metadata": {
    "slideshow": {
     "slide_type": "slide"
    }
   },
   "source": [
    "<h1><center>Local Search in Continuous Spaces - Empirical Gradient Methods</center></h1>\n",
    "\n",
    "- Methods that measure progress by the change in the value of the objective function between two nearby points are called **empirical gradient** methods.\n",
    "\n",
    "\n",
    "- Empirical gradient search is the same as steepest-asecnt hill climbing in a discretized version of the state space."
   ]
  },
  {
   "cell_type": "markdown",
   "metadata": {
    "slideshow": {
     "slide_type": "slide"
    }
   },
   "source": [
    "<h1><center>Empirical Gradient Methods - Airports Example</center></h1>\n",
    "\n",
    "<center><img src=\"img/eq-4-1.png\" align=\"center\"/></center>"
   ]
  },
  {
   "cell_type": "markdown",
   "metadata": {
    "slideshow": {
     "slide_type": "fragment"
    }
   },
   "source": [
    "<center><img src=\"img/eq-gradient.png\" align=\"center\"/></center>"
   ]
  },
  {
   "cell_type": "markdown",
   "metadata": {
    "slideshow": {
     "slide_type": "fragment"
    }
   },
   "source": [
    "<center><img src=\"img/eq-4-2.png\" align=\"center\"/></center>"
   ]
  },
  {
   "cell_type": "markdown",
   "metadata": {
    "slideshow": {
     "slide_type": "fragment"
    }
   },
   "source": [
    "<center><img src=\"img/eq-4-2-update.png\" align=\"center\"/></center>"
   ]
  },
  {
   "cell_type": "markdown",
   "metadata": {
    "slideshow": {
     "slide_type": "slide"
    }
   },
   "source": [
    "<h1><center>Local Search in Continuous Spaces - Gradient Ascent</center></h1>\n",
    "\n",
    "- Gradient Ascent Algorithm\n",
    "\n",
    "<center><img src=\"img/GA.png\" align=\"center\"/></center>\n",
    "\n",
    "<font size=1>Image source: https://medium.com/common-notes/gradient-ascent-e23738464a19</font>"
   ]
  },
  {
   "cell_type": "markdown",
   "metadata": {
    "slideshow": {
     "slide_type": "slide"
    }
   },
   "source": [
    "<h1><center>Gradient Descent</center></h1>\n",
    "\n",
    "<center><img src=\"img/gradient.png\" align=\"center\"/></center>\n",
    "\n",
    "Image from: Hands-On ML Textbook 2nd Edition, 2019"
   ]
  },
  {
   "cell_type": "markdown",
   "metadata": {
    "slideshow": {
     "slide_type": "slide"
    }
   },
   "source": [
    "<h1><center>Derivatives of Value Function</center></h1>\n",
    "\n",
    "- When the  derivative of the value function with respect to each component of the state can be calculated, then many derivative-based searches are available.\n",
    "\n",
    "\n",
    "- If you know the slope at the current state, you know which direction to go.  If you also know the second derivative, you can make some intelligent guesses at how far to go. (the matrix of second-derivatives is called Hessian Matrix)\n",
    "\n",
    "\n",
    "- If the state has multiple components, almost always the case, the derivatives are gradients, and the second derivatives are Hessian matrices."
   ]
  },
  {
   "cell_type": "markdown",
   "metadata": {
    "slideshow": {
     "slide_type": "slide"
    }
   },
   "source": [
    "<h1><center>Derivatives Example</center></h1>\n",
    "\n",
    "- Let's find the minimum of the function\n",
    "\n",
    "$$f(x) = 2 x^4 + 3 x^3 + 3$$\n",
    "\n",
    "- Its first derivative is\n",
    "\n",
    "$$\\frac{df(x)}{dx} = 8 x^3 + 9 x^2$$\n",
    "\n",
    "- and its second derivative is\n",
    "\n",
    "$$\\frac{d^2f(x)}{dx^2} = 24 x^2 + 18 x$$\n"
   ]
  },
  {
   "cell_type": "code",
   "execution_count": 6,
   "metadata": {
    "slideshow": {
     "slide_type": "slide"
    }
   },
   "outputs": [
    {
     "data": {
      "image/png": "[encoded data removed]",
      "text/plain": [
       "<Figure size 1296x576 with 1 Axes>"
      ]
     },
     "metadata": {
      "needs_background": "light"
     },
     "output_type": "display_data"
    }
   ],
   "source": [
    "# Code credit: Professor Chuck Anderson CSU\n",
    "import time\n",
    "import IPython.display as ipd  # for display and clear_output\n",
    "import random\n",
    "\n",
    "def f(x):\n",
    "    return 2 * x**4 + 3 * x**3 + 3\n",
    "\n",
    "def df(x): \n",
    "    return 8 * x**3 + 9 * x**2\n",
    "\n",
    "def ddf(x):\n",
    "    return 24 * x**2 + 18*x\n",
    "\n",
    "def taylorf(x,dx):\n",
    "    return f(x) + df(x) * dx + 0.5 * ddf(x) * dx**2\n",
    "\n",
    "xs = np.linspace(-2,1,num=100)\n",
    "\n",
    "dxs = np.linspace(-0.5,0.5,num=100)\n",
    "\n",
    "fig = plt.figure(figsize=(18, 8))\n",
    "\n",
    "for rep in range(5):\n",
    "    x = random.uniform(-2, 1)  # first guess at minimum\n",
    "    for step in range(10):\n",
    "        time.sleep(1) # sleep 2 seconds\n",
    "        plt.clf()\n",
    "        plt.plot(xs, f(xs))\n",
    "        plt.grid('on')\n",
    "        plt.plot(x+dxs, taylorf(x, dxs),'g-',linewidth=5, alpha=0.4)\n",
    "        plt.plot(x, f(x), 'ro')         \n",
    "        y0, y1 = plt.ylim()\n",
    "        plt.plot([x, x], [y0, y1], 'r--')\n",
    "        if step == 0:\n",
    "            plt.text(x, 10, 'New first x', color='r', fontsize=40)\n",
    "        plt.text(x + 0.05, (y0 + y1) * 0.5, str(x), color='r', fontsize=20)\n",
    "     \n",
    "        x = x - df(x) / float(ddf(x))\n",
    "        plt.plot(x, f(x), 'go')\n",
    "        plt.legend(('$f(x)$', '$\\hat{f}(x)$'))\n",
    "        \n",
    "   \n",
    "        ipd.clear_output(wait=True)\n",
    "        ipd.display(fig)\n",
    "    \n",
    "ipd.clear_output(wait=True)"
   ]
  },
  {
   "cell_type": "markdown",
   "metadata": {
    "slideshow": {
     "slide_type": "slide"
    }
   },
   "source": [
    "[Optimization Demos](https://www.deeplearning.ai/ai-notes/optimization/?utm_source=social&utm_medium=linkedin&utm_campaign=BlogAINotesOptimizationAugust272019)"
   ]
  },
  {
   "cell_type": "markdown",
   "metadata": {
    "slideshow": {
     "slide_type": "slide"
    }
   },
   "source": [
    "<h1><center>Unknown Search Environments - Offline Search vs Online Search</center></h1>\n",
    "\n",
    "- In unknown environments, where the agent does not know what states exist or what its actions do, the agent must use its actions as experiments in order to learn about the environment--- sometimes referred to as **exploration**.\n",
    "\n",
    "\n",
    "- So far, we have concentrated on agents that use **offline search** algorithms. They compute a complete solution before taking their first action.\n",
    "\n",
    "\n",
    "- In contrast, an **online search** agent interleaves computation and action: first it takes an action, then it observes the environment and computes the next action.\n",
    "\n",
    "All texts from Russel & Norvig Textbook"
   ]
  },
  {
   "cell_type": "markdown",
   "metadata": {
    "slideshow": {
     "slide_type": "slide"
    }
   },
   "source": [
    "<h1><center>Online Search I</center></h1>\n",
    "\n",
    "\n",
    "- Online search is a good idea in dynamic or semidynamic domains—domains where there is a penalty for sitting around and computing too long.\n",
    "\n",
    "\n",
    "- Online search is also helpful in nondeterministic domains because it allows the agent to focus its computational efforts on the contingencies that actually arise rather than those that might happen but probably won’t.\n",
    "\n",
    "All texts from Russel & Norvig Textbook"
   ]
  },
  {
   "cell_type": "markdown",
   "metadata": {
    "slideshow": {
     "slide_type": "slide"
    }
   },
   "source": [
    "<h1><center>Online Search II</center></h1>\n",
    "\n",
    "- \"Online search is a necessary idea for unknown environments, where the agent does not know what states exist or what its actions do. In this state of ignorance, the agent faces an exploration problem and must use its actions as experiments in order to learn enough to make deliberation worthwhile.\"\n",
    "\n",
    "\n",
    "- \"The canonical example of online search is a robot that is placed in a new building and must explore it to build a map that it can use for getting from A to B.\"\n",
    "\n",
    "\n",
    "- Another example for online learning is Learning Real Time A* (LRTA*) where heuristics are updated in the realtime - as oppsed to A-star where heuristic for the search space is provided offline and is static.\n",
    "\n",
    "Quoted texts from Russel & Norvig Textbook"
   ]
  },
  {
   "cell_type": "markdown",
   "metadata": {
    "slideshow": {
     "slide_type": "slide"
    }
   },
   "source": [
    "<h1><center>Online Search III</center></h1>\n",
    "\n",
    "- Two requirements for online search and learning: \n",
    "    - \"First, a formal and explicitly manipulable representation for general rules;\n",
    "\n",
    "    - Second, algorithms that can construct suitable general rules from the specific observations made by the agent.\"\n",
    "\n",
    "\n",
    "- To further imply this concept of online search, it's worth mentioning that in <b><font color=\"blue\">Reinforcement Learning</font></b>, there are usually two phases: <b>Exploration</b> - in which the agent explores the environment - and <b>Exploitation</b> - where the agent exploits the knowledge about the environment gained through Exploration.\n",
    "\n",
    "Quoted texts from Russel & Norvig Textbook"
   ]
  }
 ],
 "metadata": {
  "celltoolbar": "Slideshow",
  "kernelspec": {
   "display_name": "Python 3",
   "language": "python",
   "name": "python3"
  },
  "language_info": {
   "codemirror_mode": {
    "name": "ipython",
    "version": 3
   },
   "file_extension": ".py",
   "mimetype": "text/x-python",
   "name": "python",
   "nbconvert_exporter": "python",
   "pygments_lexer": "ipython3",
   "version": "3.7.3"
  }
 },
 "nbformat": 4,
 "nbformat_minor": 2
}
